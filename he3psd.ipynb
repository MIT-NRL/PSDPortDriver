{
 "cells": [
  {
   "cell_type": "code",
   "execution_count": 1,
   "id": "30964138-43d9-4e2a-81a9-8e8eeba5dba0",
   "metadata": {},
   "outputs": [],
   "source": [
    "import os\n",
    "os.environ[\"PYEPICS_LIBCA\"] = os.environ[\"EPICS_BASE\"] + \"/lib/\" + os.environ[\"EPICS_HOST_ARCH\"] + \"/libca.so\""
   ]
  },
  {
   "cell_type": "code",
   "execution_count": 2,
   "id": "b819e7e1-7ef2-467e-accd-ddcda4daef61",
   "metadata": {},
   "outputs": [],
   "source": [
    "from ophyd import Device, EpicsSignal, EpicsSignalRO, Component\n",
    "from ophyd.status import Status, SubscriptionStatus\n",
    "\n",
    "\n",
    "class EpicsSignalWithRBV(EpicsSignal):\n",
    "    def __init__(self, prefix, **kwargs):\n",
    "        super().__init__(prefix + \"_RBV\", write_pv=prefix, **kwargs)\n",
    "\n",
    "\n",
    "class HE3PSD(Device):\n",
    "    acquire = Component(EpicsSignalWithRBV, \":Acquire\")\n",
    "    acquire_time = Component(EpicsSignalWithRBV, \":AcquireTime\")\n",
    "    nbins = Component(EpicsSignalWithRBV, \":NBins\")\n",
    "\n",
    "    counts0 = Component(EpicsSignalRO, \":CountsD0\")\n",
    "    counts1 = Component(EpicsSignalRO, \":CountsD1\")\n",
    "    counts2 = Component(EpicsSignalRO, \":CountsD2\")\n",
    "    counts3 = Component(EpicsSignalRO, \":CountsD3\")\n",
    "    counts4 = Component(EpicsSignalRO, \":CountsD4\")\n",
    "    counts5 = Component(EpicsSignalRO, \":CountsD5\")\n",
    "    counts6 = Component(EpicsSignalRO, \":CountsD6\")\n",
    "    counts7 = Component(EpicsSignalRO, \":CountsD7\")\n",
    "    total_counts = Component(EpicsSignalRO, \":TotalCounts\")\n",
    "\n",
    "    live_counts0 = Component(EpicsSignalRO, \":LiveCountsD0\")\n",
    "    live_counts1 = Component(EpicsSignalRO, \":LiveCountsD1\")\n",
    "    live_counts2 = Component(EpicsSignalRO, \":LiveCountsD2\")\n",
    "    live_counts3 = Component(EpicsSignalRO, \":LiveCountsD3\")\n",
    "    live_counts4 = Component(EpicsSignalRO, \":LiveCountsD4\")\n",
    "    live_counts5 = Component(EpicsSignalRO, \":LiveCountsD5\")\n",
    "    live_counts6 = Component(EpicsSignalRO, \":LiveCountsD6\")\n",
    "    live_counts7 = Component(EpicsSignalRO, \":LiveCountsD7\")\n",
    "    live_total_counts = Component(EpicsSignalRO, \":LiveTotalCounts\")\n",
    "\n",
    "    _default_read_attrs = (\n",
    "        \"counts0\",\n",
    "        \"counts7\",\n",
    "        \"total_counts\"\n",
    "    )\n",
    "\n",
    "    _default_configuration_attrs = (\n",
    "        \"acquire_time\",\n",
    "        \"nbins\"\n",
    "    )\n",
    "\n",
    "    def trigger(self):\n",
    "        def check_value(*, old_value, value, **kwargs):\n",
    "            \"Return True when the acquisition is complete, False otherwise.\"\n",
    "            return (old_value == 1 and value == 0)\n",
    "\n",
    "        self.acquire.set(1).wait()\n",
    "        status = SubscriptionStatus(self.acquire, check_value)\n",
    "        return status"
   ]
  },
  {
   "cell_type": "code",
   "execution_count": 3,
   "id": "a622206d-a44e-4e9b-803d-3a350f99c209",
   "metadata": {},
   "outputs": [],
   "source": [
    "%matplotlib qt\n",
    "from bluesky.callbacks.stream import LiveDispatcher\n",
    "from bluesky.callbacks.core import make_class_safe\n",
    "from bluesky.callbacks.mpl_plotting import QtAwareCallback\n",
    "import matplotlib.pyplot as plt\n",
    "\n",
    "\n",
    "@make_class_safe()\n",
    "class LiveCounts(QtAwareCallback):\n",
    "    def __init__(self, fields:list[str], x_axis_in_mm:bool=True, total_length:float=190, x_axis_center:bool=True):\n",
    "        \"\"\"Plot the live counts using matplotlib.\n",
    "\n",
    "        :param fields: List of field names that should be plotted.\n",
    "        :param x_axis_in_mm: Flag indicating if the x-axis should be in mm, or just the bin index.\n",
    "        :param total_length: The total length of the detector in mm.\n",
    "        :param center: Flag indicating if the x-axis should be centered around zero.\n",
    "        \"\"\"\n",
    "        super().__init__()\n",
    "        self.fields = fields\n",
    "        self.x_axis_in_mm = x_axis_in_mm\n",
    "        self.total_length = total_length\n",
    "        self.x_axis_center = x_axis_center\n",
    "        \n",
    "        self.lines = {}\n",
    "        \n",
    "    def event(self, doc, **kwargs):\n",
    "        for field in self.fields:\n",
    "            if field in doc[\"data\"]:\n",
    "                data = doc[\"data\"][field]\n",
    "                nbins = len(data)\n",
    "\n",
    "                if self.x_axis_in_mm:\n",
    "                    x_axis = map(lambda x: (x + 0.5) / nbins, range(nbins))\n",
    "                    x_axis = map(lambda x: x - 0.5, x_axis) if self.x_axis_center else x_axis\n",
    "                    x_axis = map(lambda x: x * self.total_length, x_axis)\n",
    "                else:\n",
    "                    x_axis = range(nbins)\n",
    "                \n",
    "                x_axis = list(x_axis)\n",
    "                self.lines[field].set_data(x_axis, data)\n",
    "\n",
    "        self.ax.relim(visible_only=True)\n",
    "        self.ax.autoscale_view(tight=True)\n",
    "        self.ax.figure.canvas.draw_idle()\n",
    "\n",
    "    def start(self, doc):\n",
    "        self.fig, self.ax = plt.subplots()\n",
    "\n",
    "        self.lines = {field: self.ax.plot([], [], label=str(field))[0] for field in self.fields}\n",
    "        self.ax.legend(loc=\"upper left\")\n",
    "\n",
    "        if self.x_axis_in_mm:\n",
    "            self.ax.set_xlabel(\"Position [mm]\")\n",
    "        else:\n",
    "            self.ax.set_xlabel(\"Bin Index\")\n",
    "        self.ax.set_ylabel(\"Counts per bin\")\n",
    "            \n",
    "        self.fig.show()\n",
    "        super().start(doc)"
   ]
  },
  {
   "cell_type": "code",
   "execution_count": 4,
   "id": "2e40df35-beda-47a4-ac64-774b621d1659",
   "metadata": {},
   "outputs": [],
   "source": [
    "det = HE3PSD(\"he3PSD:det1\", name=\"det1\")\n",
    "det.acquire.set(0)\n",
    "det.acquire_time.set(1).wait()\n",
    "det.nbins.set(32).wait()"
   ]
  },
  {
   "cell_type": "code",
   "execution_count": 5,
   "id": "9e1e449d-c5b3-4cb5-b208-ee752a37bdc8",
   "metadata": {},
   "outputs": [
    {
     "name": "stdout",
     "output_type": "stream",
     "text": [
      "\n",
      "\n",
      "+-----------+------------+-------------------+\n",
      "|   seq_num |       time | det1_total_counts |\n",
      "+-----------+------------+-------------------+\n",
      "|         1 | 16:57:54.1 |               354 |\n",
      "+-----------+------------+-------------------+\n",
      "generator count ['11cde057'] (scan num: 1)\n",
      "\n",
      "\n"
     ]
    },
    {
     "data": {
      "text/plain": [
       "('11cde057-5f40-439f-aa10-6152aa5fb7d2',)"
      ]
     },
     "execution_count": 5,
     "metadata": {},
     "output_type": "execute_result"
    }
   ],
   "source": [
    "from bluesky import RunEngine\n",
    "from bluesky.callbacks import LiveTable\n",
    "from bluesky.plans import count\n",
    "from bluesky.preprocessors import monitor_during_wrapper\n",
    "import databroker\n",
    "\n",
    "RE = RunEngine()\n",
    "db = databroker.catalog[\"he3\"]\n",
    "\n",
    "RE.subscribe(db.v1.insert)\n",
    "RE.subscribe(LiveTable([\"det1_total_counts\"]))\n",
    "RE.subscribe(LiveCounts([\"det1_live_counts0\", \"det1_live_counts7\"]))\n",
    "\n",
    "det.acquire.set(0).wait()\n",
    "RE(monitor_during_wrapper(count([det], num=1), [det.live_counts0, det.live_counts7]))"
   ]
  },
  {
   "cell_type": "code",
   "execution_count": 6,
   "id": "e3244977-fe6e-448a-85d6-c80cfdf05867",
   "metadata": {},
   "outputs": [
    {
     "name": "stdout",
     "output_type": "stream",
     "text": [
      "\n",
      "\n",
      "+-----------+------------+-------------------+\n",
      "|   seq_num |       time | det1_total_counts |\n",
      "+-----------+------------+-------------------+\n",
      "|         1 | 16:58:06.2 |               398 |\n",
      "+-----------+------------+-------------------+\n",
      "generator count ['b3989c23'] (scan num: 2)\n",
      "\n",
      "\n"
     ]
    },
    {
     "data": {
      "text/plain": [
       "('b3989c23-1de4-46bf-acfb-7ec51655b16c',)"
      ]
     },
     "execution_count": 6,
     "metadata": {},
     "output_type": "execute_result"
    }
   ],
   "source": [
    "RE(monitor_during_wrapper(count([det], num=1), [det.live_counts0, det.live_counts7]))"
   ]
  },
  {
   "cell_type": "code",
   "execution_count": 7,
   "id": "395ed4c1-9594-46cf-87ff-c27e23aada5c",
   "metadata": {},
   "outputs": [
    {
     "data": {
      "text/plain": [
       "BlueskyRun\n",
       "  uid='11cde057-5f40-439f-aa10-6152aa5fb7d2'\n",
       "  exit_status='success'\n",
       "  2024-04-24 16:57:43.066 -- 2024-04-24 16:57:54.194\n",
       "  Streams:\n",
       "    * det1_live_counts7_monitor\n",
       "    * primary\n",
       "    * det1_live_counts0_monitor\n"
      ]
     },
     "execution_count": 7,
     "metadata": {},
     "output_type": "execute_result"
    }
   ],
   "source": [
    "db[-2]"
   ]
  },
  {
   "cell_type": "code",
   "execution_count": null,
   "id": "56142ff4-8068-4bd4-8d07-e09378fd540f",
   "metadata": {},
   "outputs": [],
   "source": []
  }
 ],
 "metadata": {
  "kernelspec": {
   "display_name": "Python 3 (ipykernel)",
   "language": "python",
   "name": "python3"
  },
  "language_info": {
   "codemirror_mode": {
    "name": "ipython",
    "version": 3
   },
   "file_extension": ".py",
   "mimetype": "text/x-python",
   "name": "python",
   "nbconvert_exporter": "python",
   "pygments_lexer": "ipython3",
   "version": "3.12.1"
  }
 },
 "nbformat": 4,
 "nbformat_minor": 5
}
